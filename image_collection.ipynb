{
 "cells": [
  {
   "cell_type": "code",
   "execution_count": 2,
   "metadata": {
    "scrolled": true
   },
   "outputs": [
    {
     "name": "stdout",
     "output_type": "stream",
     "text": [
      "Collecting opencv-python\n",
      "  Downloading opencv_python-4.9.0.80-cp37-abi3-win_amd64.whl.metadata (20 kB)\n",
      "Requirement already satisfied: numpy>=1.17.0 in d:\\anaconda\\envs\\torchwithyolo\\lib\\site-packages (from opencv-python) (1.18.5)\n",
      "Downloading opencv_python-4.9.0.80-cp37-abi3-win_amd64.whl (38.6 MB)\n",
      "   ---------------------------------------- 0.0/38.6 MB ? eta -:--:--\n",
      "   ---------------------------------------- 0.0/38.6 MB 660.6 kB/s eta 0:00:59\n",
      "   ---------------------------------------- 0.1/38.6 MB 1.4 MB/s eta 0:00:28\n",
      "   ---------------------------------------- 0.4/38.6 MB 2.7 MB/s eta 0:00:15\n",
      "    --------------------------------------- 0.8/38.6 MB 4.1 MB/s eta 0:00:10\n",
      "   - -------------------------------------- 1.0/38.6 MB 5.1 MB/s eta 0:00:08\n",
      "   -- ------------------------------------- 2.1/38.6 MB 7.4 MB/s eta 0:00:05\n",
      "   --- ------------------------------------ 3.2/38.6 MB 9.6 MB/s eta 0:00:04\n",
      "   --- ------------------------------------ 3.2/38.6 MB 9.6 MB/s eta 0:00:04\n",
      "   --- ------------------------------------ 3.2/38.6 MB 9.6 MB/s eta 0:00:04\n",
      "   ---- ----------------------------------- 4.6/38.6 MB 9.8 MB/s eta 0:00:04\n",
      "   ----- ---------------------------------- 4.9/38.6 MB 10.4 MB/s eta 0:00:04\n",
      "   ------ --------------------------------- 6.1/38.6 MB 10.8 MB/s eta 0:00:04\n",
      "   ------ --------------------------------- 6.7/38.6 MB 11.0 MB/s eta 0:00:03\n",
      "   ------ --------------------------------- 6.7/38.6 MB 11.0 MB/s eta 0:00:03\n",
      "   ------- -------------------------------- 7.3/38.6 MB 10.4 MB/s eta 0:00:04\n",
      "   ------- -------------------------------- 7.5/38.6 MB 10.2 MB/s eta 0:00:04\n",
      "   -------- ------------------------------- 7.9/38.6 MB 9.7 MB/s eta 0:00:04\n",
      "   --------- ------------------------------ 9.4/38.6 MB 10.9 MB/s eta 0:00:03\n",
      "   ---------- ----------------------------- 10.3/38.6 MB 11.9 MB/s eta 0:00:03\n",
      "   ----------- ---------------------------- 11.1/38.6 MB 13.4 MB/s eta 0:00:03\n",
      "   ----------- ---------------------------- 11.2/38.6 MB 13.6 MB/s eta 0:00:03\n",
      "   ----------- ---------------------------- 11.3/38.6 MB 13.6 MB/s eta 0:00:03\n",
      "   ------------ --------------------------- 12.5/38.6 MB 12.8 MB/s eta 0:00:03\n",
      "   ------------- -------------------------- 13.3/38.6 MB 12.8 MB/s eta 0:00:02\n",
      "   -------------- ------------------------- 13.7/38.6 MB 13.9 MB/s eta 0:00:02\n",
      "   -------------- ------------------------- 14.1/38.6 MB 13.4 MB/s eta 0:00:02\n",
      "   --------------- ------------------------ 14.5/38.6 MB 12.6 MB/s eta 0:00:02\n",
      "   --------------- ------------------------ 15.1/38.6 MB 11.9 MB/s eta 0:00:02\n",
      "   ---------------- ----------------------- 15.7/38.6 MB 11.9 MB/s eta 0:00:02\n",
      "   ---------------- ----------------------- 16.2/38.6 MB 11.5 MB/s eta 0:00:02\n",
      "   ----------------- ---------------------- 16.6/38.6 MB 11.1 MB/s eta 0:00:02\n",
      "   ----------------- ---------------------- 17.0/38.6 MB 11.7 MB/s eta 0:00:02\n",
      "   ------------------ --------------------- 17.5/38.6 MB 11.3 MB/s eta 0:00:02\n",
      "   ------------------ --------------------- 18.0/38.6 MB 12.1 MB/s eta 0:00:02\n",
      "   ------------------- -------------------- 18.5/38.6 MB 11.5 MB/s eta 0:00:02\n",
      "   ------------------- -------------------- 19.0/38.6 MB 10.9 MB/s eta 0:00:02\n",
      "   -------------------- ------------------- 19.5/38.6 MB 10.4 MB/s eta 0:00:02\n",
      "   -------------------- ------------------- 19.9/38.6 MB 10.2 MB/s eta 0:00:02\n",
      "   --------------------- ------------------ 20.3/38.6 MB 9.9 MB/s eta 0:00:02\n",
      "   --------------------- ------------------ 20.8/38.6 MB 9.9 MB/s eta 0:00:02\n",
      "   --------------------- ------------------ 21.0/38.6 MB 9.5 MB/s eta 0:00:02\n",
      "   ---------------------- ----------------- 21.6/38.6 MB 10.2 MB/s eta 0:00:02\n",
      "   ---------------------- ----------------- 21.9/38.6 MB 9.9 MB/s eta 0:00:02\n",
      "   ---------------------- ----------------- 22.2/38.6 MB 9.5 MB/s eta 0:00:02\n",
      "   ----------------------- ---------------- 22.5/38.6 MB 9.1 MB/s eta 0:00:02\n",
      "   ----------------------- ---------------- 22.8/38.6 MB 9.1 MB/s eta 0:00:02\n",
      "   ----------------------- ---------------- 23.1/38.6 MB 8.7 MB/s eta 0:00:02\n",
      "   ------------------------ --------------- 23.5/38.6 MB 8.5 MB/s eta 0:00:02\n",
      "   ------------------------ --------------- 23.8/38.6 MB 8.5 MB/s eta 0:00:02\n",
      "   ------------------------ --------------- 24.1/38.6 MB 8.5 MB/s eta 0:00:02\n",
      "   ------------------------- -------------- 24.5/38.6 MB 8.4 MB/s eta 0:00:02\n",
      "   ------------------------- -------------- 24.8/38.6 MB 8.3 MB/s eta 0:00:02\n",
      "   ------------------------- -------------- 25.1/38.6 MB 8.3 MB/s eta 0:00:02\n",
      "   -------------------------- ------------- 25.5/38.6 MB 8.2 MB/s eta 0:00:02\n",
      "   -------------------------- ------------- 25.9/38.6 MB 8.1 MB/s eta 0:00:02\n",
      "   --------------------------- ------------ 26.3/38.6 MB 8.0 MB/s eta 0:00:02\n",
      "   --------------------------- ------------ 26.8/38.6 MB 8.1 MB/s eta 0:00:02\n",
      "   ---------------------------- ----------- 27.3/38.6 MB 8.0 MB/s eta 0:00:02\n",
      "   ---------------------------- ----------- 27.6/38.6 MB 7.9 MB/s eta 0:00:02\n",
      "   ---------------------------- ----------- 27.9/38.6 MB 7.9 MB/s eta 0:00:02\n",
      "   ----------------------------- ---------- 28.4/38.6 MB 7.8 MB/s eta 0:00:02\n",
      "   ----------------------------- ---------- 28.8/38.6 MB 7.7 MB/s eta 0:00:02\n",
      "   ------------------------------ --------- 29.3/38.6 MB 7.6 MB/s eta 0:00:02\n",
      "   ------------------------------ --------- 29.6/38.6 MB 7.6 MB/s eta 0:00:02\n",
      "   ------------------------------- -------- 30.0/38.6 MB 7.5 MB/s eta 0:00:02\n",
      "   ------------------------------- -------- 30.3/38.6 MB 7.4 MB/s eta 0:00:02\n",
      "   ------------------------------- -------- 30.7/38.6 MB 7.4 MB/s eta 0:00:02\n",
      "   -------------------------------- ------- 31.0/38.6 MB 7.4 MB/s eta 0:00:02\n",
      "   -------------------------------- ------- 31.4/38.6 MB 7.4 MB/s eta 0:00:01\n",
      "   -------------------------------- ------- 31.8/38.6 MB 7.4 MB/s eta 0:00:01\n",
      "   --------------------------------- ------ 32.1/38.6 MB 7.4 MB/s eta 0:00:01\n",
      "   --------------------------------- ------ 32.5/38.6 MB 7.4 MB/s eta 0:00:01\n",
      "   ---------------------------------- ----- 32.8/38.6 MB 7.4 MB/s eta 0:00:01\n",
      "   ---------------------------------- ----- 33.2/38.6 MB 7.4 MB/s eta 0:00:01\n",
      "   ---------------------------------- ----- 33.6/38.6 MB 7.4 MB/s eta 0:00:01\n",
      "   ----------------------------------- ---- 33.9/38.6 MB 7.5 MB/s eta 0:00:01\n",
      "   ----------------------------------- ---- 34.3/38.6 MB 7.6 MB/s eta 0:00:01\n",
      "   ----------------------------------- ---- 34.7/38.6 MB 7.5 MB/s eta 0:00:01\n",
      "   ------------------------------------ --- 35.0/38.6 MB 7.7 MB/s eta 0:00:01\n",
      "   ------------------------------------ --- 35.4/38.6 MB 7.6 MB/s eta 0:00:01\n",
      "   ------------------------------------- -- 35.8/38.6 MB 7.6 MB/s eta 0:00:01\n",
      "   ------------------------------------- -- 36.1/38.6 MB 7.8 MB/s eta 0:00:01\n",
      "   ------------------------------------- -- 36.6/38.6 MB 7.7 MB/s eta 0:00:01\n",
      "   -------------------------------------- - 37.1/38.6 MB 7.8 MB/s eta 0:00:01\n",
      "   -------------------------------------- - 37.6/38.6 MB 7.8 MB/s eta 0:00:01\n",
      "   ---------------------------------------  37.9/38.6 MB 7.8 MB/s eta 0:00:01\n",
      "   ---------------------------------------  38.3/38.6 MB 7.8 MB/s eta 0:00:01\n",
      "   ---------------------------------------  38.6/38.6 MB 7.8 MB/s eta 0:00:01\n",
      "   ---------------------------------------  38.6/38.6 MB 7.8 MB/s eta 0:00:01\n",
      "   ---------------------------------------  38.6/38.6 MB 7.8 MB/s eta 0:00:01\n",
      "   ---------------------------------------- 38.6/38.6 MB 7.1 MB/s eta 0:00:00\n",
      "Installing collected packages: opencv-python\n",
      "Successfully installed opencv-python-4.9.0.80\n",
      "Note: you may need to restart the kernel to use updated packages.\n"
     ]
    }
   ],
   "source": [
    "%pip install opencv-python"
   ]
  },
  {
   "cell_type": "code",
   "execution_count": 1,
   "metadata": {},
   "outputs": [],
   "source": [
    "# Import opencv\n",
    "import cv2 \n",
    "\n",
    "# Import uuid\n",
    "import uuid\n",
    "\n",
    "# Import Operating System\n",
    "import os\n",
    "\n",
    "# Import time\n",
    "import time"
   ]
  },
  {
   "cell_type": "markdown",
   "metadata": {},
   "source": [
    "Define images to collect"
   ]
  },
  {
   "cell_type": "code",
   "execution_count": 3,
   "metadata": {},
   "outputs": [],
   "source": [
    "labels = ['prathamesh chougale','phone','headphone']\n",
    "number_of_img = 15"
   ]
  },
  {
   "cell_type": "markdown",
   "metadata": {},
   "source": [
    "Setup Folder"
   ]
  },
  {
   "cell_type": "code",
   "execution_count": 4,
   "metadata": {},
   "outputs": [],
   "source": [
    "IMAGES_PATH = os.path.join('Tensorflow','workspace','images','collectedimages')"
   ]
  },
  {
   "cell_type": "code",
   "execution_count": 5,
   "metadata": {},
   "outputs": [
    {
     "name": "stdout",
     "output_type": "stream",
     "text": [
      "Tensorflow\\workspace\\images\\collectedimages\n"
     ]
    }
   ],
   "source": [
    "print(IMAGES_PATH)"
   ]
  },
  {
   "cell_type": "code",
   "execution_count": 6,
   "metadata": {},
   "outputs": [
    {
     "data": {
      "text/plain": [
       "'nt'"
      ]
     },
     "execution_count": 6,
     "metadata": {},
     "output_type": "execute_result"
    }
   ],
   "source": [
    "os.name"
   ]
  },
  {
   "cell_type": "code",
   "execution_count": 6,
   "metadata": {},
   "outputs": [],
   "source": [
    "if not os.path.exists(IMAGES_PATH):\n",
    "    if os.name == 'posix':\n",
    "        os.makedirs(IMAGES_PATH)\n",
    "    if os.name == 'nt':\n",
    "        os.makedirs(IMAGES_PATH)\n",
    "for label in labels:\n",
    "    path = os.path.join(IMAGES_PATH,label)\n",
    "    if not os.path.exists(path):\n",
    "        os.makedirs(path)"
   ]
  },
  {
   "cell_type": "code",
   "execution_count": 7,
   "metadata": {},
   "outputs": [
    {
     "name": "stdout",
     "output_type": "stream",
     "text": [
      "collecting images for prathamesh chougale\n",
      "collecting image 0\n",
      "collecting image 1\n",
      "collecting image 2\n",
      "collecting image 3\n",
      "collecting image 4\n",
      "collecting image 5\n",
      "collecting image 6\n",
      "collecting image 7\n",
      "collecting image 8\n",
      "collecting image 9\n",
      "collecting image 10\n",
      "collecting image 11\n",
      "collecting image 12\n",
      "collecting image 13\n",
      "collecting image 14\n",
      "collecting images for phone\n",
      "collecting image 0\n",
      "collecting image 1\n",
      "collecting image 2\n",
      "collecting image 3\n",
      "collecting image 4\n",
      "collecting image 5\n",
      "collecting image 6\n",
      "collecting image 7\n",
      "collecting image 8\n",
      "collecting image 9\n",
      "collecting image 10\n",
      "collecting image 11\n",
      "collecting image 12\n",
      "collecting image 13\n",
      "collecting image 14\n",
      "collecting images for headphone\n",
      "collecting image 0\n",
      "collecting image 1\n",
      "collecting image 2\n",
      "collecting image 3\n",
      "collecting image 4\n",
      "collecting image 5\n",
      "collecting image 6\n",
      "collecting image 7\n",
      "collecting image 8\n",
      "collecting image 9\n",
      "collecting image 10\n",
      "collecting image 11\n",
      "collecting image 12\n",
      "collecting image 13\n",
      "collecting image 14\n"
     ]
    }
   ],
   "source": [
    "for label in labels:\n",
    "    cap = cv2.VideoCapture(0) #connect to our webcam or capture device\n",
    "    print('collecting images for {}'.format(label))\n",
    "    time.sleep(5)\n",
    "    for imgnum in range(number_of_img):\n",
    "        print('collecting image {}'.format(imgnum))\n",
    "        ret, frame = cap.read()\n",
    "        imgname = os.path.join(IMAGES_PATH,label,label+'.'+'{}.jpg'.format(str(uuid.uuid1())))\n",
    "        cv2.imwrite(imgname,frame)\n",
    "        cv2.imshow('frame',frame)\n",
    "        time.sleep(2)\n",
    "        \n",
    "        if cv2.waitKey(1) & 0xFF == ord('q'):\n",
    "            break\n",
    "cap.release()\n",
    "cv2.destroyAllWindows()"
   ]
  }
 ],
 "metadata": {
  "kernelspec": {
   "display_name": "torchwithyolo",
   "language": "python",
   "name": "python3"
  },
  "language_info": {
   "codemirror_mode": {
    "name": "ipython",
    "version": 3
   },
   "file_extension": ".py",
   "mimetype": "text/x-python",
   "name": "python",
   "nbconvert_exporter": "python",
   "pygments_lexer": "ipython3",
   "version": "3.8.18"
  }
 },
 "nbformat": 4,
 "nbformat_minor": 2
}
